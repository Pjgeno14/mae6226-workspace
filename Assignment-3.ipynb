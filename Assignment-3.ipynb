{
 "cells": [
  {
   "cell_type": "markdown",
   "metadata": {},
   "source": [
    "# 2D Multi-element Airfoil"
   ]
  },
  {
   "cell_type": "code",
   "execution_count": 1,
   "metadata": {
    "collapsed": true
   },
   "outputs": [],
   "source": [
    "import math\n",
    "import numpy as np\n",
    "from matplotlib import pyplot as plt\n",
    "from scipy import integrate\n",
    "%matplotlib inline"
   ]
  },
  {
   "cell_type": "code",
   "execution_count": 2,
   "metadata": {
    "collapsed": false
   },
   "outputs": [
    {
     "data": {
      "image/png": "[encoded data removed]",
      "text/plain": [
       "<matplotlib.figure.Figure at 0x7ff134be89e8>"
      ]
     },
     "metadata": {},
     "output_type": "display_data"
    }
   ],
   "source": [
    "# load geometry for each\n",
    "MainFoil = np.genfromtxt('../AeroPython/lessons/resources/MainFoil_N=50.csv', delimiter=',')\n",
    "FlapFoil = np.genfromtxt('../AeroPython/lessons/resources/FlapFoil_N=50.csv', delimiter=',')\n",
    "\n",
    "# define x and y for each\n",
    "x_foil, y_foil = MainFoil[:,0], MainFoil[:,1]\n",
    "x_flap, y_flap = FlapFoil[:,0], FlapFoil[:,1]\n",
    "\n",
    "# plot geometry\n",
    "width = 10\n",
    "plt.figure(figsize=(15, width))\n",
    "plt.xlabel('x', fontsize=16)\n",
    "plt.ylabel('y', fontsize=16)\n",
    "plt.plot(x_foil, y_foil, linewidth=2, linestyle='-', color='k')\n",
    "plt.plot(x_flap, y_flap, linewidth=2, linestyle='-', color='k')\n",
    "plt.xlim(-0.2, 1.4)\n",
    "plt.ylim(-0.7, 0.5)\n",
    "plt.axis(adjustabel='box');"
   ]
  },
  {
   "cell_type": "code",
   "execution_count": 3,
   "metadata": {
    "collapsed": true
   },
   "outputs": [],
   "source": [
    "# create panel class\n",
    "class Panel:\n",
    "    \"\"\"\n",
    "    Contains information related to a panel.\n",
    "    \"\"\"\n",
    "    def __init__(self, xa, ya, xb, yb):\n",
    "        \"\"\"\n",
    "        Initializes the panel.\n",
    "        \n",
    "        Sets the end-points and calculates the center-point, length,\n",
    "        and angle (with the x-axis) of the panel.\n",
    "        Defines if the panel is located on the upper or lower surface of the geometry.\n",
    "        Initializes the source-strength, tangential velocity, and pressure coefficient\n",
    "        of the panel to zero.\n",
    "        \n",
    "        Parameters\n",
    "        ----------\n",
    "        xa: float\n",
    "            x-coordinate of the first end-point\n",
    "        ya: float\n",
    "            y-coordinate of the first end-point\n",
    "        xb: float\n",
    "            x-coordinate of the second end-point\n",
    "        yb: float\n",
    "            y-coordinate of the second end-point\n",
    "        \"\"\"\n",
    "        self.xa, self.ya = xa, ya     # panel starting point\n",
    "        self.xb, self.yb = xb, yb     # panel end point\n",
    "        \n",
    "        self.xc, self.yc = (xa+xb)/2, (ya+yb)/2         # panel center\n",
    "        self.length = math.sqrt((xb-xa)**2+(yb-ya)**2)  # panel length\n",
    "        \n",
    "        # orientation of the panel\n",
    "        if xb-xa <= 0.0:\n",
    "            self.beta = np.arccos((yb-ya)/self.length)\n",
    "        elif xb-xa > 0.0:\n",
    "            self.beta = math.pi + np.arccos(-(yb-ya)/self.length)\n",
    "            \n",
    "        # panel location\n",
    "        if self.beta <= np.pi:\n",
    "            self.loc = 'upper'    # upper surface\n",
    "        else:\n",
    "            self.loc = 'lower'    # lower surface\n",
    "        \n",
    "        self.sigma = 0.0     # source strength\n",
    "        self.vt = 0.0        # tangential velocity\n",
    "        self.cp = 0.0        # coefficient of pressure"
   ]
  },
  {
   "cell_type": "code",
   "execution_count": 4,
   "metadata": {
    "collapsed": true
   },
   "outputs": [],
   "source": [
    "# define panels for main foil\n",
    "def define_panels_foil(x, y, N=50):\n",
    "    \"\"\"\n",
    "    Discretizes the geometry into panels using the 'cosine' method.\n",
    "    \n",
    "    Parameters\n",
    "    ----------\n",
    "    x: 1D numpy array of floats\n",
    "        x-coordinate of the points defining the geometry.\n",
    "    y: 1D array of floats\n",
    "        y-coordinate of the points defining the geometry.\n",
    "    N: integer, optional\n",
    "        Number of panels;\n",
    "        default: 50\n",
    "        \n",
    "    Returns\n",
    "    -------\n",
    "    panels: 1D numpy array of Panel objects\n",
    "        The list of panels.\n",
    "    \"\"\"\n",
    "    x_ends = x_foil                         # x-coordinate of the panels end-points\n",
    "    y_ends = y_foil                # y-coordinate of the panels end-points\n",
    "    \n",
    "    # create panels\n",
    "    panels = np.empty(N, dtype = object)\n",
    "    for i in range(N):\n",
    "        panels[i] = Panel(x_ends[i], y_ends[i], x_ends[i+1], y_ends[i+1])\n",
    "        \n",
    "    return panels"
   ]
  },
  {
   "cell_type": "code",
   "execution_count": 5,
   "metadata": {
    "collapsed": true
   },
   "outputs": [],
   "source": [
    "# define panels for flap\n",
    "def define_panels_flap(x, y, N=50):\n",
    "    \"\"\"\n",
    "    Discretizes the geometry into panels using the 'cosine' method.\n",
    "    \n",
    "    Parameters\n",
    "    ----------\n",
    "    x: 1D numpy array of floats\n",
    "        x-coordinate of the points defining the geometry.\n",
    "    y: 1D array of floats\n",
    "        y-coordinate of the points defining the geometry.\n",
    "    N: integer, optional\n",
    "        Number of panels;\n",
    "        default: 50\n",
    "        \n",
    "    Returns\n",
    "    -------\n",
    "    panels: 1D numpy array of Panel objects\n",
    "        The list of panels.\n",
    "    \"\"\"\n",
    "    x_ends = x_flap                     # x-coordinate of the panels end-points\n",
    "    y_ends = y_flap                     # y-coordinate of the panels end-points\n",
    "    \n",
    "    # create panels\n",
    "    panels = np.empty(N, dtype = object)\n",
    "    for i in range(N):\n",
    "        panels[i] = Panel(x_ends[i], y_ends[i], x_ends[i+1], y_ends[i+1])\n",
    "        \n",
    "    return panels"
   ]
  },
  {
   "cell_type": "code",
   "execution_count": 6,
   "metadata": {
    "collapsed": false
   },
   "outputs": [],
   "source": [
    "# discretize geometry into panels\n",
    "panels_foil = define_panels_foil(x_foil, y_foil, N=50)\n",
    "panels_flap = define_panels_flap(x_flap, y_flap, N=50)"
   ]
  },
  {
   "cell_type": "code",
   "execution_count": 7,
   "metadata": {
    "collapsed": false
   },
   "outputs": [
    {
     "data": {
      "image/png": "[encoded data removed]",
      "text/plain": [
       "<matplotlib.figure.Figure at 0x7ff134b39e10>"
      ]
     },
     "metadata": {},
     "output_type": "display_data"
    }
   ],
   "source": [
    "# plot discretized geometry\n",
    "width = 10\n",
    "plt.figure(figsize=(width, width))\n",
    "plt.xlabel('x', fontsize=16)\n",
    "plt.ylabel('y', fontsize=16)\n",
    "plt.plot(x_foil, y_foil, color='k', linewidth=2, linestyle='-')\n",
    "plt.plot(x_flap, y_flap, color='k', linewidth=2, linestyle='-')\n",
    "plt.plot(np.append([panel.xa for panel in panels_foil], panels_foil[0].xa),\n",
    "            np.append([panel.ya for panel in panels_foil], panels_foil[0].ya),\n",
    "            linestyle='-', linewidth=1, marker='o', markersize=6, color='#CD2305')\n",
    "plt.plot(np.append([panel.xa for panel in panels_flap], panels_flap[0].xa),\n",
    "            np.append([panel.ya for panel in panels_flap], panels_flap[0].ya),\n",
    "            linestyle='-', linewidth=1, marker='o', markersize=6, color='#CD2305')\n",
    "plt.axis('scaled', adjustable='box')\n",
    "plt.xlim(-0.1, 1.4)\n",
    "plt.ylim(-0.3, 0.3);"
   ]
  },
  {
   "cell_type": "markdown",
   "metadata": {},
   "source": [
    "## Freestream Conditions"
   ]
  },
  {
   "cell_type": "code",
   "execution_count": 8,
   "metadata": {
    "collapsed": true
   },
   "outputs": [],
   "source": [
    "class Freestream:\n",
    "    \"\"\"\n",
    "    Freestream conditions.\n",
    "    \"\"\"\n",
    "    def __init__(self, u_inf=1.0, alpha=0.0):\n",
    "        \"\"\"\n",
    "        Sets the freestream speed and angle (in degrees)\n",
    "        \n",
    "        Parameters\n",
    "        ----------\n",
    "        u_inf: float, optional\n",
    "            Freestream speed;\n",
    "            default: 1.0.\n",
    "        alpha: float, optional\n",
    "            Angle of attack in degrees;\n",
    "            default 0.0.\n",
    "        \"\"\"\n",
    "        self.u_inf = u_inf\n",
    "        self.alpha = alpha*np.pi/180.0"
   ]
  },
  {
   "cell_type": "code",
   "execution_count": 9,
   "metadata": {
    "collapsed": true
   },
   "outputs": [],
   "source": [
    "# define freestream conditions\n",
    "freestream = Freestream(u_inf=1.0, alpha=4.0)"
   ]
  },
  {
   "cell_type": "markdown",
   "metadata": {},
   "source": [
    "## Build Matrices"
   ]
  },
  {
   "cell_type": "code",
   "execution_count": 10,
   "metadata": {
    "collapsed": true
   },
   "outputs": [],
   "source": [
    "# define integral for the source and vortex contributions (can use for both main foil and flap)\n",
    "def integral(x, y, panel, dxdk, dydk):\n",
    "    \"\"\"\n",
    "    Evaluates the contribution from a panel at a given point.\n",
    "    \n",
    "    Parameters\n",
    "    ----------\n",
    "    x: float\n",
    "        x-coordinate of the target point.\n",
    "    y: float\n",
    "        y-coordinate of the target point.\n",
    "    panel: Panel object\n",
    "        Panel whose contribution is evaluated.\n",
    "    dxdk: float\n",
    "        Value of the derivative of x in a certain direction.\n",
    "    dydk: float\n",
    "        Value of the derivative of y in a certain direction.\n",
    "    \n",
    "    Returns\n",
    "    -------\n",
    "    Contribution from the panel at a given point (x, y).\n",
    "    \"\"\"\n",
    "    def integrand(s):\n",
    "        return ( ((x - (panel.xa - np.sin(panel.beta)*s))*dxdk\n",
    "                  +(y - (panel.ya + np.cos(panel.beta)*s))*dydk)\n",
    "                / ((x - (panel.xa - np.sin(panel.beta)*s))**2\n",
    "                   +(y - (panel.ya + np.cos(panel.beta)*s))**2) )\n",
    "    return integrate.quad(integrand, 0.0, panel.length)[0]"
   ]
  },
  {
   "cell_type": "code",
   "execution_count": 11,
   "metadata": {
    "collapsed": false
   },
   "outputs": [],
   "source": [
    "# source contribution for main foil and flap\n",
    "def source_contribution_normal(panels_foil, panels_flap):\n",
    "    \"\"\"\n",
    "    Builds the source contribution matrix for the normal velocity.\n",
    "    \n",
    "    Parameters\n",
    "    ----------\n",
    "    panels: 1D array of Panel objects\n",
    "        List of panels.\n",
    "    \n",
    "    Returns\n",
    "    -------\n",
    "    A: 2D Numpy array of floats\n",
    "        Source contribution matrix.\n",
    "    \"\"\"\n",
    "    Total_Panels = np.append(panels_foil, panels_flap)\n",
    "    A = np.empty((len(Total_Panels),len(Total_Panels)), dtype=float)\n",
    "    # source contribution on a panel from itself\n",
    "    np.fill_diagonal(A, 0.5)\n",
    "    # source contribution on a panel from others\n",
    "    for i, panel_i in enumerate(Total_Panels):\n",
    "        for j, panel_j in enumerate(Total_Panels):\n",
    "            if i != j:\n",
    "                A[i, j] = 0.5/np.pi*integral(panel_i.xc, panel_i.yc, \n",
    "                                                panel_j,\n",
    "                                                np.cos(panel_i.beta),\n",
    "                                                np.sin(panel_i.beta))\n",
    "    return A"
   ]
  },
  {
   "cell_type": "code",
   "execution_count": 12,
   "metadata": {
    "collapsed": true
   },
   "outputs": [],
   "source": [
    "# define vortex contribution for main foil and flap\n",
    "def vortex_contribution_normal(panels_foil, panels_flap):\n",
    "    \"\"\"\n",
    "    Builds the vortex contribution matrix for the normal velocity.\n",
    "    \n",
    "    Parameters\n",
    "    ----------\n",
    "    panels: 1D array of Panel objects\n",
    "        List of panels.\n",
    "    \n",
    "    Returns\n",
    "    -------\n",
    "    A: 2D Numpy array of floats\n",
    "        Vortex contribution matrix.\n",
    "    \"\"\"\n",
    "    Total_Panels = np.append(panels_foil, panels_flap)\n",
    "    A = np.empty((len(Total_Panels),len(Total_Panels)), dtype=float)\n",
    "    # vortex contribution on a panel from itself\n",
    "    np.fill_diagonal(A, 0.0)\n",
    "    # vortex contribution on a panel from others\n",
    "    for i, panel_i in enumerate(Total_Panels):\n",
    "        for j, panel_j in enumerate(Total_Panels):\n",
    "            if i != j:\n",
    "                A[i, j] = -0.5/np.pi*integral(panel_i.xc, panel_i.yc, \n",
    "                                                 panel_j,\n",
    "                                                 np.sin(panel_i.beta),\n",
    "                                                 -np.cos(panel_i.beta))\n",
    "    return A"
   ]
  },
  {
   "cell_type": "code",
   "execution_count": 13,
   "metadata": {
    "collapsed": false
   },
   "outputs": [],
   "source": [
    "# create source and vortex matrices\n",
    "A_source = source_contribution_normal(panels_foil, panels_flap)\n",
    "B_vortex = vortex_contribution_normal(panels_foil, panels_flap)"
   ]
  },
  {
   "cell_type": "code",
   "execution_count": 14,
   "metadata": {
    "collapsed": true
   },
   "outputs": [],
   "source": [
    "def kutta_condition(A_source, B_vortex):\n",
    "    \"\"\"\n",
    "    Builds the Kutta condition array.\n",
    "    \n",
    "    Parameters\n",
    "    ----------\n",
    "    A_source: 2D Numpy array of floats\n",
    "        Source contribution matrix for the normal velocity.\n",
    "    B_vortex: 2D Numpy array of floats\n",
    "        Vortex contribution matrix for the normal velocity.\n",
    "    \n",
    "    Returns\n",
    "    -------\n",
    "    b: 1D Numpy array of floats\n",
    "        The left-hand side of the Kutta-condition equation.\n",
    "    \"\"\"\n",
    "    b = np.empty(A_source.shape[0]+2, dtype=float)\n",
    "    # matrix of source contribution on tangential velocity\n",
    "    # is the same than\n",
    "    # matrix of vortex contribution on normal velocity\n",
    "    b[:-2] = B_vortex[0, :] + B_vortex[49, :]\n",
    "    # matrix of vortex contribution on tangential velocity\n",
    "    # is the opposite of\n",
    "    # matrix of source contribution on normal velocity\n",
    "    b[-1] = - np.sum(A_source[0, :] + A_source[49, :])\n",
    "    b[-2] = - np.sum(A_source[50, :] + A_source[99, :])\n",
    "    return b"
   ]
  },
  {
   "cell_type": "code",
   "execution_count": 15,
   "metadata": {
    "collapsed": true
   },
   "outputs": [],
   "source": [
    "def build_singularity_matrix(A_source, B_vortex):\n",
    "    \"\"\"\n",
    "    Builds the left-hand side matrix of the system\n",
    "    arising from source and vortex contributions.\n",
    "    \n",
    "    Parameters\n",
    "    ----------\n",
    "    A_source: 2D Numpy array of floats\n",
    "        Source contribution matrix for the normal velocity.\n",
    "    B_vortex: 2D Numpy array of floats\n",
    "        Vortex contribution matrix for the normal velocity.\n",
    "    \n",
    "    Returns\n",
    "    -------\n",
    "    A:  2D Numpy array of floats\n",
    "        Matrix of the linear system.\n",
    "    \"\"\"\n",
    "    A = np.empty((A_source.shape[0]+2, A_source.shape[1]+2), dtype=float)\n",
    "    # source contribution matrix\n",
    "    A[:-2, :-2] = A_source\n",
    "    # vortex contribution array\n",
    "    A[:-2, -2] = np.sum(B_vortex, axis=1)\n",
    "    # Kutta condition array\n",
    "    A[-2, :] = kutta_condition(A_source, B_vortex)\n",
    "    return A"
   ]
  },
  {
   "cell_type": "code",
   "execution_count": 20,
   "metadata": {
    "collapsed": true
   },
   "outputs": [],
   "source": [
    "Total_Panels = np.append(panels_foil, panels_flap)\n",
    "\n",
    "def build_freestream_rhs(Total_Panels, freestream):\n",
    "    \"\"\"\n",
    "    Builds the right-hand side of the system \n",
    "    arising from the freestream contribution.\n",
    "    \n",
    "    Parameters\n",
    "    ----------\n",
    "    panels: 1D array of Panel objects\n",
    "        List of panels.\n",
    "    freestream: Freestream object\n",
    "        Freestream conditions.\n",
    "    \n",
    "    Returns\n",
    "    -------\n",
    "    b: 1D Numpy array of floats\n",
    "        Freestream contribution on each panel and on the Kutta condition.\n",
    "    \"\"\"\n",
    "    b = np.empty(len(Total_Panels)+2,dtype=float)\n",
    "    # freestream contribution on each panel\n",
    "    for i, panel in enumerate(Total_Panels):\n",
    "        b[i] = -freestream.u_inf * np.cos(freestream.alpha - panel.beta)\n",
    "    # freestream contribution on the Kutta condition\n",
    "    b[-1] = -freestream.u_inf*( np.sin(freestream.alpha-Total_Panels[50].beta)\n",
    "                               +np.sin(freestream.alpha-Total_Panels[-99].beta) )\n",
    "    b[-2] = -freestream.u_inf*( np.sin(freestream.alpha-Total_Panels[0].beta)\n",
    "                               +np.sin(freestream.alpha-Total_Panels[-49].beta) )\n",
    "    return b"
   ]
  },
  {
   "cell_type": "code",
   "execution_count": 21,
   "metadata": {
    "collapsed": false
   },
   "outputs": [],
   "source": [
    "A = build_singularity_matrix(A_source, B_vortex)\n",
    "b = build_freestream_rhs(Total_Panels, freestream)"
   ]
  },
  {
   "cell_type": "code",
   "execution_count": 22,
   "metadata": {
    "collapsed": false
   },
   "outputs": [],
   "source": [
    "# solve for singularity strengths\n",
    "strengths = np.linalg.solve(A, b)\n",
    "\n",
    "# store source strength on each panel\n",
    "for i , panel in enumerate(Total_Panels):\n",
    "    panel.sigma = strengths[i]\n",
    "    \n",
    "# store circulation density\n",
    "gamma_foil = strengths[-2]\n",
    "gamma_flap = strengths[-1]"
   ]
  },
  {
   "cell_type": "code",
   "execution_count": 28,
   "metadata": {
    "collapsed": true
   },
   "outputs": [],
   "source": [
    "def compute_tangential_velocity(Total_Panels, freestream, gamma_foil, gamma_flap, A_source, B_vortex):\n",
    "    \"\"\"\n",
    "    Computes the tangential surface velocity.\n",
    "    \n",
    "    Parameters\n",
    "    ----------\n",
    "    panels: 1D array of Panel objects\n",
    "        List of panels.\n",
    "    freestream: Freestream object\n",
    "        Freestream conditions.\n",
    "    gamma: float\n",
    "        Circulation density.\n",
    "    A_source: 2D Numpy array of floats\n",
    "        Source contribution matrix for the normal velocity.\n",
    "    B_vortex: 2D Numpy array of floats\n",
    "        Vortex contribution matrix for the normal velocity.\n",
    "    \"\"\"\n",
    "    A = np.empty((len(Total_Panels), len(Total_Panels)+2), dtype=float)\n",
    "    # matrix of source contribution on tangential velocity\n",
    "    # is the same than\n",
    "    # matrix of vortex contribution on normal velocity\n",
    "    A[:, :-2] = B_vortex\n",
    "    # matrix of vortex contribution on tangential velocity\n",
    "    # is the opposite of\n",
    "    # matrix of source contribution on normal velocity\n",
    "    A[:, -2] = -np.sum(A_source, axis=1)\n",
    "    # freestream contribution\n",
    "    b = freestream.u_inf*np.sin([freestream.alpha-panel.beta \n",
    "                                    for panel in Total_Panels])\n",
    "    \n",
    "    strengths = np.append([panel.sigma for panel in Total_Panels], [gamma_foil, gamma_flap])\n",
    "    \n",
    "    tangential_velocities = np.dot(A, strengths) + b\n",
    "    \n",
    "    for i, panel in enumerate(Total_Panels):\n",
    "        panel.vt = tangential_velocities[i]"
   ]
  },
  {
   "cell_type": "code",
   "execution_count": 29,
   "metadata": {
    "collapsed": false
   },
   "outputs": [],
   "source": [
    "# tangential velocity at each panel center.\n",
    "compute_tangential_velocity(Total_Panels, freestream, gamma_foil, gamma_flap, A_source, B_vortex)"
   ]
  },
  {
   "cell_type": "code",
   "execution_count": 31,
   "metadata": {
    "collapsed": true
   },
   "outputs": [],
   "source": [
    "def compute_pressure_coefficient(Total_Panels, freestream):\n",
    "    \"\"\"\n",
    "    Computes the surface pressure coefficients.\n",
    "    \n",
    "    Parameters\n",
    "    ----------\n",
    "    panels: 1D array of Panel objects\n",
    "        List of panels.\n",
    "    freestream: Freestream object\n",
    "        Freestream conditions.\n",
    "    \"\"\"\n",
    "    for panel in Total_Panels:\n",
    "        panel.cp = 1.0 - (panel.vt/freestream.u_inf)**2"
   ]
  },
  {
   "cell_type": "code",
   "execution_count": 33,
   "metadata": {
    "collapsed": false
   },
   "outputs": [
    {
     "name": "stderr",
     "output_type": "stream",
     "text": [
      "/home/gil/anaconda3/lib/python3.5/site-packages/ipykernel/__main__.py:13: RuntimeWarning: overflow encountered in double_scalars\n"
     ]
    }
   ],
   "source": [
    "# surface pressure coefficient\n",
    "compute_pressure_coefficient(Total_Panels, freestream)"
   ]
  },
  {
   "cell_type": "code",
   "execution_count": null,
   "metadata": {
    "collapsed": true
   },
   "outputs": [],
   "source": []
  }
 ],
 "metadata": {
  "anaconda-cloud": {},
  "kernelspec": {
   "display_name": "Python [conda root]",
   "language": "python",
   "name": "conda-root-py"
  },
  "language_info": {
   "codemirror_mode": {
    "name": "ipython",
    "version": 3
   },
   "file_extension": ".py",
   "mimetype": "text/x-python",
   "name": "python",
   "nbconvert_exporter": "python",
   "pygments_lexer": "ipython3",
   "version": "3.5.2"
  }
 },
 "nbformat": 4,
 "nbformat_minor": 1
}
