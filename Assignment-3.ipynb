{
 "cells": [
  {
   "cell_type": "markdown",
   "metadata": {},
   "source": [
    "# 2D Multi-element Airfoil"
   ]
  },
  {
   "cell_type": "code",
   "execution_count": 1,
   "metadata": {
    "collapsed": true
   },
   "outputs": [],
   "source": [
    "import math\n",
    "import numpy as np\n",
    "from matplotlib import pyplot as plt\n",
    "from scipy import integrate\n",
    "%matplotlib inline"
   ]
  },
  {
   "cell_type": "code",
   "execution_count": 2,
   "metadata": {
    "collapsed": false
   },
   "outputs": [
    {
     "data": {
      "image/png": "[encoded data removed]",
      "text/plain": [
       "<matplotlib.figure.Figure at 0x7f6fd744ba90>"
      ]
     },
     "metadata": {},
     "output_type": "display_data"
    }
   ],
   "source": [
    "# load geometry for each\n",
    "MainFoil = np.genfromtxt('../AeroPython/lessons/resources/MainFoil_N=100.csv', delimiter=',')\n",
    "FlapFoil = np.genfromtxt('../AeroPython/lessons/resources/FlapFoil_N=100.csv', delimiter=',')\n",
    "\n",
    "# define x and y for each\n",
    "x_foil, y_foil = MainFoil[:,0], MainFoil[:,1]\n",
    "x_flap, y_flap = FlapFoil[:,0], FlapFoil[:,1]\n",
    "\n",
    "# plot geometry\n",
    "width = 10\n",
    "plt.figure(figsize=(15, width))\n",
    "plt.xlabel('x', fontsize=16)\n",
    "plt.ylabel('y', fontsize=16)\n",
    "plt.plot(x_foil, y_foil, linewidth=2, linestyle='-', color='k')\n",
    "plt.plot(x_flap, y_flap, linewidth=2, linestyle='-', color='k')\n",
    "plt.xlim(-0.2, 1.4)\n",
    "plt.ylim(-0.7, 0.5)\n",
    "plt.axis(adjustabel='box');"
   ]
  },
  {
   "cell_type": "code",
   "execution_count": 3,
   "metadata": {
    "collapsed": true
   },
   "outputs": [],
   "source": [
    "# create panel class\n",
    "class Panel:\n",
    "    \"\"\"\n",
    "    Contains information related to a panel.\n",
    "    \"\"\"\n",
    "    def __init__(self, xa, ya, xb, yb):\n",
    "        \"\"\"\n",
    "        Initializes the panel.\n",
    "        \n",
    "        Sets the end-points and calculates the center-point, length,\n",
    "        and angle (with the x-axis) of the panel.\n",
    "        Defines if the panel is located on the upper or lower surface of the geometry.\n",
    "        Initializes the source-strength, tangential velocity, and pressure coefficient\n",
    "        of the panel to zero.\n",
    "        \n",
    "        Parameters\n",
    "        ----------\n",
    "        xa: float\n",
    "            x-coordinate of the first end-point\n",
    "        ya: float\n",
    "            y-coordinate of the first end-point\n",
    "        xb: float\n",
    "            x-coordinate of the second end-point\n",
    "        yb: float\n",
    "            y-coordinate of the second end-point\n",
    "        \"\"\"\n",
    "        self.xa, self.ya = xa, ya     # panel starting point\n",
    "        self.xb, self.yb = xb, yb     # panel end point\n",
    "        \n",
    "        self.xc, self.yc = (xa+xb)/2, (ya+yb)/2         # panel center\n",
    "        self.length = math.sqrt((xb-xa)**2+(yb-ya)**2)  # panel length\n",
    "        \n",
    "        # orientation of the panel\n",
    "        if xb-xa <= 0.0:\n",
    "            self.beta = np.arccos((yb-ya)/self.length)\n",
    "        elif xb-xa > 0.0:\n",
    "            self.beta = math.pi + np.arccos(-(yb-ya)/self.length)\n",
    "            \n",
    "        # panel location\n",
    "        if self.beta <= np.pi:\n",
    "            self.loc = 'upper'    # upper surface\n",
    "        else:\n",
    "            self.loc = 'lower'    # lower surface\n",
    "        \n",
    "        self.sigma = 0.0     # source strength\n",
    "        self.vt = 0.0        # tangential velocity\n",
    "        self.cp = 0.0        # coefficient of pressure"
   ]
  },
  {
   "cell_type": "code",
   "execution_count": 4,
   "metadata": {
    "collapsed": true
   },
   "outputs": [],
   "source": [
    "# define panels for main foil\n",
    "def define_panels_foil(x, y, N=100):\n",
    "    \"\"\"\n",
    "    Discretizes the geometry into panels using the 'cosine' method.\n",
    "    \n",
    "    Parameters\n",
    "    ----------\n",
    "    x: 1D numpy array of floats\n",
    "        x-coordinate of the points defining the geometry.\n",
    "    y: 1D array of floats\n",
    "        y-coordinate of the points defining the geometry.\n",
    "    N: integer, optional\n",
    "        Number of panels;\n",
    "        default: 50\n",
    "        \n",
    "    Returns\n",
    "    -------\n",
    "    panels: 1D numpy array of Panel objects\n",
    "        The list of panels.\n",
    "    \"\"\"\n",
    "    x_ends = x_foil                         # x-coordinate of the panels end-points\n",
    "    y_ends = y_foil                # y-coordinate of the panels end-points\n",
    "    \n",
    "    # create panels\n",
    "    panels = np.empty(N, dtype = object)\n",
    "    for i in range(N):\n",
    "        panels[i] = Panel(x_ends[i], y_ends[i], x_ends[i+1], y_ends[i+1])\n",
    "        \n",
    "    return panels"
   ]
  },
  {
   "cell_type": "code",
   "execution_count": 5,
   "metadata": {
    "collapsed": true
   },
   "outputs": [],
   "source": [
    "# define panels for flap\n",
    "def define_panels_flap(x, y, N=100):\n",
    "    \"\"\"\n",
    "    Discretizes the geometry into panels using the 'cosine' method.\n",
    "    \n",
    "    Parameters\n",
    "    ----------\n",
    "    x: 1D numpy array of floats\n",
    "        x-coordinate of the points defining the geometry.\n",
    "    y: 1D array of floats\n",
    "        y-coordinate of the points defining the geometry.\n",
    "    N: integer, optional\n",
    "        Number of panels;\n",
    "        default: 50\n",
    "        \n",
    "    Returns\n",
    "    -------\n",
    "    panels: 1D numpy array of Panel objects\n",
    "        The list of panels.\n",
    "    \"\"\"\n",
    "    x_ends = x_flap                     # x-coordinate of the panels end-points\n",
    "    y_ends = y_flap                     # y-coordinate of the panels end-points\n",
    "    \n",
    "    # create panels\n",
    "    panels = np.empty(N, dtype = object)\n",
    "    for i in range(N):\n",
    "        panels[i] = Panel(x_ends[i], y_ends[i], x_ends[i+1], y_ends[i+1])\n",
    "        \n",
    "    return panels"
   ]
  },
  {
   "cell_type": "code",
   "execution_count": 6,
   "metadata": {
    "collapsed": false
   },
   "outputs": [],
   "source": [
    "# discretize geometry into panels\n",
    "panels_foil = define_panels_foil(x_foil, y_foil, N=100)\n",
    "panels_flap = define_panels_flap(x_flap, y_flap, N=100)"
   ]
  },
  {
   "cell_type": "code",
   "execution_count": 7,
   "metadata": {
    "collapsed": false
   },
   "outputs": [
    {
     "data": {
      "image/png": "[encoded data removed]",
      "text/plain": [
       "<matplotlib.figure.Figure at 0x7f6fd539fd68>"
      ]
     },
     "metadata": {},
     "output_type": "display_data"
    }
   ],
   "source": [
    "# plot discretized geometry\n",
    "width = 10\n",
    "plt.figure(figsize=(width, width))\n",
    "plt.xlabel('x', fontsize=16)\n",
    "plt.ylabel('y', fontsize=16)\n",
    "plt.plot(x_foil, y_foil, color='k', linewidth=2, linestyle='-')\n",
    "plt.plot(x_flap, y_flap, color='k', linewidth=2, linestyle='-')\n",
    "plt.plot(np.append([panel.xa for panel in panels_foil], panels_foil[0].xa),\n",
    "            np.append([panel.ya for panel in panels_foil], panels_foil[0].ya),\n",
    "            linestyle='-', linewidth=1, marker='o', markersize=6, color='#CD2305')\n",
    "plt.plot(np.append([panel.xa for panel in panels_flap], panels_flap[0].xa),\n",
    "            np.append([panel.ya for panel in panels_flap], panels_flap[0].ya),\n",
    "            linestyle='-', linewidth=1, marker='o', markersize=6, color='#CD2305')\n",
    "plt.axis('scaled', adjustable='box')\n",
    "plt.xlim(-0.1, 1.4)\n",
    "plt.ylim(-0.3, 0.3);"
   ]
  },
  {
   "cell_type": "markdown",
   "metadata": {},
   "source": [
    "## Freestream Conditions"
   ]
  },
  {
   "cell_type": "code",
   "execution_count": 8,
   "metadata": {
    "collapsed": true
   },
   "outputs": [],
   "source": [
    "class Freestream:\n",
    "    \"\"\"\n",
    "    Freestream conditions.\n",
    "    \"\"\"\n",
    "    def __init__(self, u_inf=1.0, alpha=0.0):\n",
    "        \"\"\"\n",
    "        Sets the freestream speed and angle (in degrees)\n",
    "        \n",
    "        Parameters\n",
    "        ----------\n",
    "        u_inf: float, optional\n",
    "            Freestream speed;\n",
    "            default: 1.0.\n",
    "        alpha: float, optional\n",
    "            Angle of attack in degrees;\n",
    "            default 0.0.\n",
    "        \"\"\"\n",
    "        self.u_inf = u_inf\n",
    "        self.alpha = alpha*np.pi/180.0"
   ]
  },
  {
   "cell_type": "code",
   "execution_count": 9,
   "metadata": {
    "collapsed": true
   },
   "outputs": [],
   "source": [
    "# define freestream conditions\n",
    "freestream = Freestream(u_inf=1.0, alpha=4.0)"
   ]
  },
  {
   "cell_type": "markdown",
   "metadata": {},
   "source": [
    "## Build Matrices"
   ]
  },
  {
   "cell_type": "code",
   "execution_count": 10,
   "metadata": {
    "collapsed": true
   },
   "outputs": [],
   "source": [
    "# define integral for the source and vortex contributions (can use for both main foil and flap)\n",
    "def integral(x, y, panel, dxdk, dydk):\n",
    "    \"\"\"\n",
    "    Evaluates the contribution from a panel at a given point.\n",
    "    \n",
    "    Parameters\n",
    "    ----------\n",
    "    x: float\n",
    "        x-coordinate of the target point.\n",
    "    y: float\n",
    "        y-coordinate of the target point.\n",
    "    panel: Panel object\n",
    "        Panel whose contribution is evaluated.\n",
    "    dxdk: float\n",
    "        Value of the derivative of x in a certain direction.\n",
    "    dydk: float\n",
    "        Value of the derivative of y in a certain direction.\n",
    "    \n",
    "    Returns\n",
    "    -------\n",
    "    Contribution from the panel at a given point (x, y).\n",
    "    \"\"\"\n",
    "    def integrand(s):\n",
    "        return ( ((x - (panel.xa - np.sin(panel.beta)*s))*dxdk\n",
    "                  +(y - (panel.ya + np.cos(panel.beta)*s))*dydk)\n",
    "                / ((x - (panel.xa - np.sin(panel.beta)*s))**2\n",
    "                   +(y - (panel.ya + np.cos(panel.beta)*s))**2) )\n",
    "    return integrate.quad(integrand, 0.0, panel.length)[0]"
   ]
  },
  {
   "cell_type": "code",
   "execution_count": 11,
   "metadata": {
    "collapsed": false
   },
   "outputs": [],
   "source": [
    "# source contribution for main foil and flap\n",
    "def source_contribution_normal(panels_foil, panels_flap):\n",
    "    \"\"\"\n",
    "    Builds the source contribution matrix for the normal velocity.\n",
    "    \n",
    "    Parameters\n",
    "    ----------\n",
    "    panels: 1D array of Panel objects\n",
    "        List of panels.\n",
    "    \n",
    "    Returns\n",
    "    -------\n",
    "    A: 2D Numpy array of floats\n",
    "        Source contribution matrix.\n",
    "    \"\"\"\n",
    "    Total_Panels = np.append(panels_foil, panels_flap)\n",
    "    A = np.empty((len(Total_Panels),len(Total_Panels)), dtype=float)\n",
    "    # source contribution on a panel from itself\n",
    "    np.fill_diagonal(A, 0.5)\n",
    "    # source contribution on a panel from others\n",
    "    for i, panel_i in enumerate(Total_Panels):\n",
    "        for j, panel_j in enumerate(Total_Panels):\n",
    "            if i != j:\n",
    "                A[i, j] = 0.5/np.pi*integral(panel_i.xc, panel_i.yc, \n",
    "                                                panel_j,\n",
    "                                                np.cos(panel_i.beta),\n",
    "                                                np.sin(panel_i.beta))\n",
    "    return A"
   ]
  },
  {
   "cell_type": "code",
   "execution_count": 12,
   "metadata": {
    "collapsed": true
   },
   "outputs": [],
   "source": [
    "# define vortex contribution for main foil and flap\n",
    "def vortex_contribution_normal(panels_foil, panels_flap):\n",
    "    \"\"\"\n",
    "    Builds the vortex contribution matrix for the normal velocity.\n",
    "    \n",
    "    Parameters\n",
    "    ----------\n",
    "    panels: 1D array of Panel objects\n",
    "        List of panels.\n",
    "    \n",
    "    Returns\n",
    "    -------\n",
    "    A: 2D Numpy array of floats\n",
    "        Vortex contribution matrix.\n",
    "    \"\"\"\n",
    "    Total_Panels = np.append(panels_foil, panels_flap)\n",
    "    A = np.empty((len(Total_Panels),len(Total_Panels)), dtype=float)\n",
    "    # vortex contribution on a panel from itself\n",
    "    np.fill_diagonal(A, 0.0)\n",
    "    # vortex contribution on a panel from others\n",
    "    for i, panel_i in enumerate(Total_Panels):\n",
    "        for j, panel_j in enumerate(Total_Panels):\n",
    "            if i != j:\n",
    "                A[i, j] = -0.5/np.pi*integral(panel_i.xc, panel_i.yc, \n",
    "                                                 panel_j,\n",
    "                                                 np.sin(panel_i.beta),\n",
    "                                                 -np.cos(panel_i.beta))\n",
    "    return A"
   ]
  },
  {
   "cell_type": "code",
   "execution_count": 13,
   "metadata": {
    "collapsed": false
   },
   "outputs": [],
   "source": [
    "# create source and vortex matrices\n",
    "A_source = source_contribution_normal(panels_foil, panels_flap)\n",
    "B_vortex = vortex_contribution_normal(panels_foil, panels_flap)"
   ]
  },
  {
   "cell_type": "code",
   "execution_count": 34,
   "metadata": {
    "collapsed": true
   },
   "outputs": [],
   "source": [
    "def kutta_condition(A_source, B_vortex):\n",
    "    \"\"\"\n",
    "    Builds the Kutta condition array.\n",
    "    \n",
    "    Parameters\n",
    "    ----------\n",
    "    A_source: 2D Numpy array of floats\n",
    "        Source contribution matrix for the normal velocity.\n",
    "    B_vortex: 2D Numpy array of floats\n",
    "        Vortex contribution matrix for the normal velocity.\n",
    "    \n",
    "    Returns\n",
    "    -------\n",
    "    b: 1D Numpy array of floats\n",
    "        The left-hand side of the Kutta-condition equation.\n",
    "    \"\"\"\n",
    "    b = np.empty((2, A_source.shape[0]+2), dtype=float)\n",
    "    print(b.shape)\n",
    "    # matrix of source contribution on tangential velocity\n",
    "    # is the same than\n",
    "    # matrix of vortex contribution on normal velocity\n",
    "    b[0, :-2] = B_vortex[0, :] + B_vortex[99, :]\n",
    "    b[1, :-2] = B_vortex[100, :] + B_vortex[-1, :]\n",
    "#     b[:-2] = B_vortex[0, :] + B_vortex[199, :]\n",
    "    # matrix of vortex contribution on tangential velocity\n",
    "    # is the opposite of\n",
    "    # matrix of source contribution on normal velocity\n",
    "    b[0, -2] = - np.sum(A_source[0, :] + A_source[99, :])\n",
    "    b[0, -1] = - np.sum(A_source[100, :] + A_source[199, :])\n",
    "    b[1, -2] = - np.sum(A_source[0, :] + A_source[99, :])\n",
    "    b[1, -1] = - np.sum(A_source[100, :] + A_source[199, :])\n",
    "    \n",
    "    return b"
   ]
  },
  {
   "cell_type": "code",
   "execution_count": 35,
   "metadata": {
    "collapsed": false
   },
   "outputs": [
    {
     "name": "stdout",
     "output_type": "stream",
     "text": [
      "(2, 202)\n",
      "[[ -5.33516243e-02  -2.06407527e-02  -2.87166991e-03  -8.62324571e-04\n",
      "   -4.76183075e-05   3.94776213e-04   6.52099294e-04   7.98830519e-04\n",
      "    8.74193550e-04   9.03068585e-04   9.02648322e-04   8.84211589e-04\n",
      "    8.55410794e-04   8.21057463e-04   7.84227713e-04   7.46823493e-04\n",
      "    7.10024726e-04   6.74567348e-04   6.40832660e-04   6.08956054e-04\n",
      "    5.78922967e-04   5.50653812e-04   5.24084449e-04   4.99112566e-04\n",
      "    4.75574369e-04   4.53315553e-04   4.32199343e-04   4.12090218e-04\n",
      "    3.92850778e-04   3.74349617e-04   3.56479020e-04   3.39138433e-04\n",
      "    3.22223012e-04   3.05642151e-04   2.89312536e-04   2.73153277e-04\n",
      "    2.57111268e-04   2.41125569e-04   2.25126480e-04   2.09113772e-04\n",
      "    1.93050401e-04   1.76856071e-04   1.60733494e-04   1.44700238e-04\n",
      "    1.28035583e-04   1.12493010e-04   9.95175985e-05   8.24479261e-05\n",
      "    4.17119180e-05   3.87942819e-05   9.15461899e-05   1.17830759e-04\n",
      "    9.43420592e-05   1.07751560e-04   1.25775673e-04   1.50280673e-04\n",
      "    1.73771821e-04   1.98636307e-04   2.25563988e-04   2.53622253e-04\n",
      "    2.82995805e-04   3.13850996e-04   3.46149081e-04   3.79975239e-04\n",
      "    4.15426241e-04   4.52575091e-04   4.91548916e-04   5.32491787e-04\n",
      "    5.75458639e-04   6.20598207e-04   6.68174167e-04   7.18953411e-04\n",
      "    7.73369738e-04   8.29420732e-04   8.86618711e-04   9.49240893e-04\n",
      "    1.01673660e-03   1.08796493e-03   1.16399692e-03   1.24560252e-03\n",
      "    1.33305733e-03   1.42701352e-03   1.52826478e-03   1.63751140e-03\n",
      "    1.75535074e-03   1.88210925e-03   2.01797737e-03   2.16253378e-03\n",
      "    2.31383184e-03   2.46780454e-03   2.61724921e-03   2.75197761e-03\n",
      "    2.85863841e-03   2.92711982e-03   2.96121293e-03   2.99754046e-03\n",
      "    3.12033063e-03   3.51640991e-03   6.62184418e-03   9.71736094e-02\n",
      "    8.61278755e-06   2.58418226e-05   4.29187565e-05   5.92723158e-05\n",
      "    7.41141730e-05   8.67729453e-05   9.70060520e-05   1.04598913e-04\n",
      "    1.09156149e-04   1.10370684e-04   1.08501488e-04   1.03674580e-04\n",
      "    9.59541660e-05   8.54363541e-05   7.23324891e-05   5.68759451e-05\n",
      "    3.92301911e-05   1.95340542e-05  -2.01991526e-06  -2.52544467e-05\n",
      "   -5.00480701e-05  -7.61839586e-05  -1.03354550e-04  -1.31290752e-04\n",
      "   -1.59790751e-04  -1.88151456e-04  -2.15554072e-04  -2.41203755e-04\n",
      "   -2.63704603e-04  -2.80988433e-04  -2.90169241e-04  -2.87268784e-04\n",
      "   -2.66289094e-04  -2.18709473e-04  -1.32657403e-04   8.97001334e-06\n",
      "    2.29352075e-04   5.56399342e-04   1.01901826e-03   1.63524440e-03\n",
      "    2.38351776e-03   3.17072943e-03   3.82316920e-03   4.14452677e-03\n",
      "    4.02680200e-03   3.52246012e-03   2.79340832e-03   2.03113926e-03\n",
      "    1.31661052e-03   1.21530155e-03   1.57599342e-03   1.82125714e-03\n",
      "    2.39670030e-03   2.68554927e-03   3.04882263e-03   3.25162698e-03\n",
      "    3.23111570e-03   3.09377935e-03   2.88037658e-03   2.60651044e-03\n",
      "    2.31073120e-03   2.02198142e-03   1.75500162e-03   1.51550898e-03\n",
      "    1.30585508e-03   1.12513814e-03   9.70997664e-04   8.40233758e-04\n",
      "    7.29743808e-04   6.36529484e-04   5.57952811e-04   4.91734022e-04\n",
      "    4.35914497e-04   3.88821292e-04   3.49018917e-04   3.15312287e-04\n",
      "    2.86698574e-04   2.62322825e-04   2.41447307e-04   2.23441352e-04\n",
      "    2.07800629e-04   1.94119726e-04   1.82001166e-04   1.71070366e-04\n",
      "    1.61014133e-04   1.51611005e-04   1.42651573e-04   1.33957645e-04\n",
      "    1.25375422e-04   1.16708670e-04   1.07771616e-04   9.85113909e-05\n",
      "    8.90386232e-05   7.90969190e-05   6.81923617e-05   5.66862291e-05\n",
      "    4.55130655e-05   3.35168989e-05   1.97376783e-05   6.39194889e-06\n",
      "   -2.17992401e+00  -2.53610525e+00]\n",
      " [  3.32855186e-05   9.82798219e-05   1.59204154e-04   2.15346939e-04\n",
      "    2.68470911e-04   3.20734989e-04   3.73050197e-04   4.25358704e-04\n",
      "    4.77020003e-04   5.26942424e-04   5.74152353e-04   6.17671508e-04\n",
      "    6.56790185e-04   6.90971069e-04   7.19901797e-04   7.43456779e-04\n",
      "    7.61663610e-04   7.74713937e-04   7.82901865e-04   7.86575163e-04\n",
      "    7.86102049e-04   7.81834155e-04   7.74163023e-04   7.63489634e-04\n",
      "    7.50148499e-04   7.34445996e-04   7.16673312e-04   6.97091462e-04\n",
      "    6.75926685e-04   6.53370221e-04   6.29599517e-04   6.04770361e-04\n",
      "    5.79006322e-04   5.52419608e-04   5.25103111e-04   4.97130753e-04\n",
      "    4.68597080e-04   4.39559570e-04   4.10048612e-04   3.80197615e-04\n",
      "    3.50054376e-04   3.19586470e-04   2.89247286e-04   2.59135656e-04\n",
      "    2.28066925e-04   1.99214170e-04   1.75073595e-04   1.44037933e-04\n",
      "    7.24735742e-05   6.71224947e-05   1.57163258e-04   1.99677464e-04\n",
      "    1.57872763e-04   1.78410164e-04   2.06025182e-04   2.43360529e-04\n",
      "    2.77954360e-04   3.13648701e-04   3.51356026e-04   3.89423255e-04\n",
      "    4.27993966e-04   4.67140393e-04   5.06601360e-04   5.46288544e-04\n",
      "    5.86098959e-04   6.25866451e-04   6.65464046e-04   7.04727784e-04\n",
      "    7.43370448e-04   7.81206440e-04   8.17814225e-04   8.53346427e-04\n",
      "    8.88357171e-04   9.20263764e-04   9.47096443e-04   9.72320256e-04\n",
      "    9.94709399e-04   1.01219114e-03   1.02462156e-03   1.03155297e-03\n",
      "    1.03205949e-03   1.02548712e-03   1.01131559e-03   9.89063815e-04\n",
      "    9.58394263e-04   9.19139389e-04   8.71534367e-04   8.16196421e-04\n",
      "    7.54018317e-04   6.86282169e-04   6.14568490e-04   5.40919509e-04\n",
      "    4.67376668e-04   3.96161977e-04   3.28987085e-04   2.66633359e-04\n",
      "    2.07946034e-04   1.50321668e-04   9.16034256e-05   3.08888596e-05\n",
      "   -1.87520998e-02  -4.68323387e-02  -8.32530404e-03  -4.21254510e-03\n",
      "   -2.79196148e-03  -2.05920362e-03  -1.59890717e-03  -1.27629651e-03\n",
      "   -1.03161424e-03  -8.34582646e-04  -6.72380129e-04  -5.36779733e-04\n",
      "   -4.21852518e-04  -3.23257843e-04  -2.38084236e-04  -1.64293743e-04\n",
      "   -1.00227177e-04  -4.44429966e-05   4.21035534e-06   4.66519654e-05\n",
      "    8.36346986e-05   1.15765856e-04   1.43627095e-04   1.67738780e-04\n",
      "    1.88499791e-04   2.06006614e-04   2.20671784e-04   2.32859596e-04\n",
      "    2.42595943e-04   2.50011559e-04   2.55273829e-04   2.58503968e-04\n",
      "    2.59683903e-04   2.58910774e-04   2.56185071e-04   2.51434189e-04\n",
      "    2.44696288e-04   2.35912132e-04   2.25033132e-04   2.12117105e-04\n",
      "    1.97257382e-04   1.80640100e-04   1.62520276e-04   1.43136485e-04\n",
      "    1.22668636e-04   1.01426559e-04   7.96901081e-05   5.91553496e-05\n",
      "    3.97167110e-05   3.82496249e-05   5.21402108e-05   6.36052783e-05\n",
      "    8.92450626e-05   1.07974040e-04   1.34670839e-04   1.62200218e-04\n",
      "    1.86796252e-04   2.11888667e-04   2.38342092e-04   2.64605558e-04\n",
      "    2.90640941e-04   3.16778188e-04   3.43069645e-04   3.69251835e-04\n",
      "    3.95307923e-04   4.21199935e-04   4.46933724e-04   4.72422732e-04\n",
      "    4.97647699e-04   5.22540360e-04   5.47062568e-04   5.71201668e-04\n",
      "    5.94954007e-04   6.18317656e-04   6.41267514e-04   6.63813784e-04\n",
      "    6.85991608e-04   7.07834716e-04   7.29350298e-04   7.50529596e-04\n",
      "    7.71480563e-04   7.92471425e-04   8.13652938e-04   8.35041373e-04\n",
      "    8.56649005e-04   8.78769296e-04   9.01708856e-04   9.25946184e-04\n",
      "    9.52246048e-04   9.80995306e-04   1.01178534e-03   1.04441372e-03\n",
      "    1.08270576e-03   1.12843559e-03   1.15791850e-03   1.10000379e-03\n",
      "    8.34751317e-04  -3.24272747e-04  -1.50548293e-02   1.81841583e-01\n",
      "   -2.17992401e+00  -2.53610525e+00]]\n"
     ]
    }
   ],
   "source": [
    "b = kutta_condition(A_source, B_vortex)\n",
    "print(b)"
   ]
  },
  {
   "cell_type": "code",
   "execution_count": 27,
   "metadata": {
    "collapsed": false
   },
   "outputs": [],
   "source": [
    "def build_singularity_matrix(A_source, B_vortex):\n",
    "    \"\"\"\n",
    "    Builds the left-hand side matrix of the system\n",
    "    arising from source and vortex contributions.\n",
    "    \n",
    "    Parameters\n",
    "    ----------\n",
    "    A_source: 2D Numpy array of floats\n",
    "        Source contribution matrix for the normal velocity.\n",
    "    B_vortex: 2D Numpy array of floats\n",
    "        Vortex contribution matrix for the normal velocity.\n",
    "    \n",
    "    Returns\n",
    "    -------\n",
    "    A:  2D Numpy array of floats\n",
    "        Matrix of the linear system.\n",
    "    \"\"\"\n",
    "    A = np.empty((A_source.shape[0]+2, A_source.shape[1]+2), dtype=float)\n",
    "    # source contribution matrix\n",
    "    A[:-2, :-2] = A_source\n",
    "    # vortex contribution array\n",
    "    A[:-2, -2] = np.sum(B_vortex[:, 0:99], axis=1)\n",
    "    A[:-2, -1] = np.sum(B_vortex[:, 100:199], axis=1)\n",
    "    # Kutta condition array\n",
    "    A[-2:, :] = kutta_condition(A_source, B_vortex)\n",
    "    return A"
   ]
  },
  {
   "cell_type": "code",
   "execution_count": 36,
   "metadata": {
    "collapsed": false
   },
   "outputs": [],
   "source": [
    "Total_Panels = np.append(panels_foil, panels_flap)\n",
    "\n",
    "def build_freestream_rhs(Total_Panels, freestream):\n",
    "    \"\"\"\n",
    "    Builds the right-hand side of the system \n",
    "    arising from the freestream contribution.\n",
    "    \n",
    "    Parameters\n",
    "    ----------\n",
    "    panels: 1D array of Panel objects\n",
    "        List of panels.\n",
    "    freestream: Freestream object\n",
    "        Freestream conditions.\n",
    "    \n",
    "    Returns\n",
    "    -------\n",
    "    b: 1D Numpy array of floats\n",
    "        Freestream contribution on each panel and on the Kutta condition.\n",
    "    \"\"\"\n",
    "    b = np.empty(len(Total_Panels)+2,dtype=float)\n",
    "    # freestream contribution on each panel\n",
    "    for i, panel in enumerate(Total_Panels):\n",
    "        b[i] = -freestream.u_inf * np.cos(freestream.alpha - panel.beta)\n",
    "    # freestream contribution on the Kutta condition\n",
    "    b[-1] = -freestream.u_inf*( np.sin(freestream.alpha-Total_Panels[100].beta)\n",
    "                               +np.sin(freestream.alpha-Total_Panels[199].beta) )\n",
    "    b[-2] = -freestream.u_inf*( np.sin(freestream.alpha-Total_Panels[0].beta)\n",
    "                               +np.sin(freestream.alpha-Total_Panels[99].beta) )\n",
    "    return b"
   ]
  },
  {
   "cell_type": "code",
   "execution_count": 37,
   "metadata": {
    "collapsed": false
   },
   "outputs": [
    {
     "name": "stdout",
     "output_type": "stream",
     "text": [
      "(2, 202)\n"
     ]
    }
   ],
   "source": [
    "A = build_singularity_matrix(A_source, B_vortex)\n",
    "b = build_freestream_rhs(Total_Panels, freestream)"
   ]
  },
  {
   "cell_type": "code",
   "execution_count": 39,
   "metadata": {
    "collapsed": false
   },
   "outputs": [
    {
     "name": "stdout",
     "output_type": "stream",
     "text": [
      "[-17.53421853 -11.14267643  -8.40408398  -6.49228481  -5.07755858\n",
      "  -4.0345008   -3.28766198  -2.77080362  -2.42180198  -2.18713385\n",
      "  -2.03235582  -1.93054212  -1.86563883  -1.82578133  -1.80326567\n",
      "  -1.79261425  -1.78963276  -1.79203197  -1.79848077  -1.80806882\n",
      "  -1.81989255  -1.83229811  -1.84493462  -1.85852204  -1.87255724\n",
      "  -1.88655365  -1.90075678  -1.91561111  -1.93140169  -1.9473343\n",
      "  -1.96268089  -1.97805667  -1.99352193  -2.00841754  -2.02301117\n",
      "  -2.03719485  -2.04928394  -2.05977726  -2.06861112  -2.07108208\n",
      "  -2.06722696  -2.05702742  -2.02199093  -1.96221126  -1.9104478\n",
      "  -1.72766535  -1.34610843  -1.13785827  -0.52039368  -0.08705802\n",
      "   0.96400556   2.59134596   2.82874867   3.03225993   3.1197721\n",
      "   3.05794547   2.9628247    2.87383605   2.78346808   2.68578606\n",
      "   2.59118795   2.50133728   2.41407984   2.33084726   2.25191976\n",
      "   2.17673145   2.10647333   2.04044141   1.97362818   1.91817303\n",
      "   1.88963201   1.82503371   1.71121518   1.67018068   1.67699896\n",
      "   1.63850356   1.58973433   1.55791824   1.52901642   1.50086079\n",
      "   1.47759876   1.45905101   1.4449708    1.43655028   1.43575539\n",
      "   1.44584058   1.47003661   1.51325007   1.58434342   1.69638513\n",
      "   1.86939604   2.13028973   2.52074599   3.09132706   3.90329686\n",
      "   4.9985556    6.42633212   8.3117025   11.01717384  17.52864427\n",
      " -12.02589841  -9.36585523  -8.3743257   -7.27725399  -6.34603722\n",
      "  -5.6691626   -5.12916747  -4.6729869   -4.28379372  -3.94854361\n",
      "  -3.65812794  -3.40252302  -3.17380588  -2.96626074  -2.77658645\n",
      "  -2.6023762   -2.44071885  -2.2883612   -2.14388567  -2.0071402\n",
      "  -1.87707669  -1.75020192  -1.62665491  -1.5084311   -1.39672307\n",
      "  -1.28395298  -1.17368619  -1.07149375  -0.97324686  -0.87857113\n",
      "  -0.79003853  -0.71134825  -0.63987674  -0.58164512  -0.54158569\n",
      "  -0.5157963   -0.51548625  -0.5492687   -0.61693331  -0.71919462\n",
      "  -0.87464433  -1.06371777  -1.28362784  -1.51818138  -1.72694107\n",
      "  -1.90956315  -2.0968436   -1.81573474  -1.43630317  -0.32148053\n",
      "   2.97874106   2.71631329   2.48336008   2.31029204   2.13377458\n",
      "   1.91998131   1.71088726   1.54098438   1.40251265   1.28388115\n",
      "   1.18965845   1.12127157   1.07563096   1.0482448    1.03742442\n",
      "   1.04123936   1.05818083   1.08636283   1.12474625   1.17216348\n",
      "   1.22797073   1.29176639   1.36318986   1.44188423   1.52751392\n",
      "   1.62008961   1.71970268   1.82639073   1.94023411   2.06166136\n",
      "   2.19169711   2.33127819   2.48053447   2.63998975   2.8113366\n",
      "   2.99716681   3.19971129   3.42185209   3.66695927   3.93868041\n",
      "   4.24348251   4.59214326   4.99517503   5.45584159   6.00195057\n",
      "   6.71940089   7.6090326    8.5152019    9.40214653  12.32627145\n",
      "   0.75881506   0.61139837]\n"
     ]
    }
   ],
   "source": [
    "# solve for singularity strengths\n",
    "strengths = np.linalg.solve(A, b)\n",
    "\n",
    "# store source strength on each panel\n",
    "for i , panel in enumerate(Total_Panels):\n",
    "    panel.sigma = strengths[i]\n",
    "    \n",
    "# store circulation density\n",
    "gamma_foil = strengths[-2]\n",
    "gamma_flap = strengths[-1]\n",
    "\n",
    "print(strengths)"
   ]
  },
  {
   "cell_type": "code",
   "execution_count": 46,
   "metadata": {
    "collapsed": true
   },
   "outputs": [],
   "source": [
    "def compute_tangential_velocity(Total_Panels, freestream, gamma_foil, gamma_flap, A_source, B_vortex):\n",
    "    \"\"\"\n",
    "    Computes the tangential surface velocity.\n",
    "    \n",
    "    Parameters\n",
    "    ----------\n",
    "    panels: 1D array of Panel objects\n",
    "        List of panels.\n",
    "    freestream: Freestream object\n",
    "        Freestream conditions.\n",
    "    gamma: float\n",
    "        Circulation density.\n",
    "    A_source: 2D Numpy array of floats\n",
    "        Source contribution matrix for the normal velocity.\n",
    "    B_vortex: 2D Numpy array of floats\n",
    "        Vortex contribution matrix for the normal velocity.\n",
    "    \"\"\"\n",
    "    A = np.empty((len(Total_Panels), len(Total_Panels)+2), dtype=float)\n",
    "    # matrix of source contribution on tangential velocity\n",
    "    # is the same than\n",
    "    # matrix of vortex contribution on normal velocity\n",
    "    A[:, :-2] = B_vortex\n",
    "    # matrix of vortex contribution on tangential velocity\n",
    "    # is the opposite of\n",
    "    # matrix of source contribution on normal velocity\n",
    "    A[:, -2] = -np.sum(A_source[:, 0:99], axis=1)\n",
    "    A[:, -1] = -np.sum(A_source[:, 100:199], axis=1)\n",
    "    # freestream contribution\n",
    "    b = freestream.u_inf*np.sin([freestream.alpha-panel.beta \n",
    "                                    for panel in Total_Panels])\n",
    "    \n",
    "    strengths = np.append([panel.sigma for panel in Total_Panels], [gamma_foil, gamma_flap])\n",
    "    \n",
    "    tangential_velocities = np.dot(A, strengths) + b\n",
    "    \n",
    "    for i, panel in enumerate(Total_Panels):\n",
    "        panel.vt = tangential_velocities[i]"
   ]
  },
  {
   "cell_type": "code",
   "execution_count": 47,
   "metadata": {
    "collapsed": false
   },
   "outputs": [],
   "source": [
    "# tangential velocity at each panel center.\n",
    "compute_tangential_velocity(Total_Panels, freestream, gamma_foil, gamma_flap, A_source, B_vortex)"
   ]
  },
  {
   "cell_type": "code",
   "execution_count": 48,
   "metadata": {
    "collapsed": false
   },
   "outputs": [
    {
     "name": "stdout",
     "output_type": "stream",
     "text": [
      "0.758815061166\n",
      "0.611398365194\n"
     ]
    }
   ],
   "source": [
    "print(gamma_foil)\n",
    "print(gamma_flap)"
   ]
  },
  {
   "cell_type": "code",
   "execution_count": 49,
   "metadata": {
    "collapsed": true
   },
   "outputs": [],
   "source": [
    "def compute_pressure_coefficient(Total_Panels, freestream):\n",
    "    \"\"\"\n",
    "    Computes the surface pressure coefficients.\n",
    "    \n",
    "    Parameters\n",
    "    ----------\n",
    "    panels: 1D array of Panel objects\n",
    "        List of panels.\n",
    "    freestream: Freestream object\n",
    "        Freestream conditions.\n",
    "    \"\"\"\n",
    "    for panel in Total_Panels:\n",
    "        panel.cp = 1.0 - (panel.vt/freestream.u_inf)**2"
   ]
  },
  {
   "cell_type": "code",
   "execution_count": 50,
   "metadata": {
    "collapsed": false
   },
   "outputs": [],
   "source": [
    "# surface pressure coefficient\n",
    "compute_pressure_coefficient(Total_Panels, freestream)"
   ]
  },
  {
   "cell_type": "code",
   "execution_count": 51,
   "metadata": {
    "collapsed": false
   },
   "outputs": [
    {
     "data": {
      "image/png": "[encoded data removed]",
      "text/plain": [
       "<matplotlib.figure.Figure at 0x7f6fccf5d6a0>"
      ]
     },
     "metadata": {},
     "output_type": "display_data"
    }
   ],
   "source": [
    "# plot surface pressure coefficient\n",
    "plt.figure(figsize=(10, 6))\n",
    "plt.grid()\n",
    "plt.xlabel('$x$', fontsize=16)\n",
    "plt.ylabel('$C_p$', fontsize=16)\n",
    "plt.plot([panel.xc for panel in Total_Panels if panel.loc == 'upper'],\n",
    "            [panel.cp for panel in Total_Panels if panel.loc == 'upper'],\n",
    "            label='upper surface',\n",
    "            color='r', linestyle='-', linewidth=2, marker='o', markersize=6)\n",
    "plt.plot([panel.xc for panel in Total_Panels if panel.loc == 'lower'],\n",
    "            [panel.cp for panel in Total_Panels if panel.loc == 'lower'],\n",
    "            label= 'lower surface',\n",
    "            color='b', linestyle='-', linewidth=1, marker='o', markersize=6)\n",
    "plt.legend(loc='best', prop={'size':16})\n",
    "plt.xlim(-0.1, 1.5)\n",
    "plt.ylim(2.0, -25.0)\n",
    "plt.title('Number of Total_Panels: {}'.format(Total_Panels.size), fontsize=16);"
   ]
  },
  {
   "cell_type": "code",
   "execution_count": null,
   "metadata": {
    "collapsed": true
   },
   "outputs": [],
   "source": []
  },
  {
   "cell_type": "markdown",
   "metadata": {},
   "source": [
    "# Part 2 - Wenzinger's Test Case"
   ]
  },
  {
   "cell_type": "code",
   "execution_count": 52,
   "metadata": {
    "collapsed": false
   },
   "outputs": [
    {
     "data": {
      "image/png": "[encoded data removed]",
      "text/plain": [
       "<matplotlib.figure.Figure at 0x7f6fcc012860>"
      ]
     },
     "metadata": {},
     "output_type": "display_data"
    }
   ],
   "source": [
    "# load geometry for each\n",
    "MainFoil = np.genfromtxt('../AeroPython/lessons/resources/NACA23012_MainFoil.csv', delimiter=',')\n",
    "FlapFoil = np.genfromtxt('../AeroPython/lessons/resources/NACA23012_FlapFoil.csv', delimiter=',')\n",
    "\n",
    "# define x and y for each\n",
    "x_foil, y_foil = MainFoil[:,0], MainFoil[:,1]\n",
    "x_flap, y_flap = FlapFoil[:,0], FlapFoil[:,1]\n",
    "\n",
    "# plot geometry\n",
    "width = 10\n",
    "plt.figure(figsize=(15, width))\n",
    "plt.xlabel('x', fontsize=16)\n",
    "plt.ylabel('y', fontsize=16)\n",
    "plt.plot(x_foil, y_foil, linewidth=2, linestyle='-', color='k')\n",
    "plt.plot(x_flap, y_flap, linewidth=2, linestyle='-', color='k')\n",
    "plt.xlim(-0.2, 1.4)\n",
    "plt.ylim(-0.7, 0.5)\n",
    "plt.axis(adjustabel='box');"
   ]
  },
  {
   "cell_type": "code",
   "execution_count": 53,
   "metadata": {
    "collapsed": true
   },
   "outputs": [],
   "source": [
    "# define rotation function to rotate flap\n",
    "def rotate(hinge, array, angle):\n",
    "    \"\"\"\n",
    "    Rotate the flap about the hinge point (1.03, -0.054)\n",
    "    \n",
    "    Parameters\n",
    "    ----------\n",
    "    hinge: x, y coordinates\n",
    "        rotation point\n",
    "    array: 2D array of x, y coordinates of flap\n",
    "        flap coordinates\n",
    "    angle: float\n",
    "        angle of rotation in degrees\n",
    "        \n",
    "    Returns\n",
    "    -------\n",
    "    new_x: 1D numpy array\n",
    "        new x-coordinate array after rotation\n",
    "    new_y: 1D numpy array\n",
    "        new y-coordinate array after rotation\n",
    "    \"\"\"\n",
    "    hx, hy = hinge\n",
    "    array_x, array_y = array\n",
    "\n",
    "    new_x = hx + math.cos(angle) * (array_x - hx) - math.sin(angle) * (array_y - hy)\n",
    "    new_y = hy + math.sin(angle) * (array_x - hx) + math.cos(angle) * (array_y - hy)\n",
    "    return new_x, new_y"
   ]
  },
  {
   "cell_type": "code",
   "execution_count": 54,
   "metadata": {
    "collapsed": false
   },
   "outputs": [
    {
     "data": {
      "image/png": "[encoded data removed]",
      "text/plain": [
       "<matplotlib.figure.Figure at 0x7f6fc6b9bb38>"
      ]
     },
     "metadata": {},
     "output_type": "display_data"
    }
   ],
   "source": [
    "# define rotated flap\n",
    "x_foil, y_foil = MainFoil[:,0], MainFoil[:,1]\n",
    "x_flap, y_flap = rotate((1.03,-.054),(FlapFoil[:,0], FlapFoil[:,1]),-20*np.pi/180)\n",
    "\n",
    "# plot geometry\n",
    "width = 10\n",
    "plt.figure(figsize=(15, width))\n",
    "plt.xlabel('x', fontsize=16)\n",
    "plt.ylabel('y', fontsize=16)\n",
    "plt.plot(x_foil, y_foil, linewidth=2, linestyle='-', color='k')\n",
    "plt.plot(x_flap, y_flap, linewidth=2, linestyle='-', color='k')\n",
    "plt.xlim(-0.2, 1.4)\n",
    "plt.ylim(-0.7, 0.5)\n",
    "plt.axis(adjustabel='box');"
   ]
  },
  {
   "cell_type": "code",
   "execution_count": 55,
   "metadata": {
    "collapsed": true
   },
   "outputs": [],
   "source": [
    "# create panel class\n",
    "class Panel:\n",
    "    \"\"\"\n",
    "    Contains information related to a panel.\n",
    "    \"\"\"\n",
    "    def __init__(self, xa, ya, xb, yb):\n",
    "        \"\"\"\n",
    "        Initializes the panel.\n",
    "        \n",
    "        Sets the end-points and calculates the center-point, length,\n",
    "        and angle (with the x-axis) of the panel.\n",
    "        Defines if the panel is located on the upper or lower surface of the geometry.\n",
    "        Initializes the source-strength, tangential velocity, and pressure coefficient\n",
    "        of the panel to zero.\n",
    "        \n",
    "        Parameters\n",
    "        ----------\n",
    "        xa: float\n",
    "            x-coordinate of the first end-point\n",
    "        ya: float\n",
    "            y-coordinate of the first end-point\n",
    "        xb: float\n",
    "            x-coordinate of the second end-point\n",
    "        yb: float\n",
    "            y-coordinate of the second end-point\n",
    "        \"\"\"\n",
    "        self.xa, self.ya = xa, ya     # panel starting point\n",
    "        self.xb, self.yb = xb, yb     # panel end point\n",
    "        \n",
    "        self.xc, self.yc = (xa+xb)/2, (ya+yb)/2         # panel center\n",
    "        self.length = math.sqrt((xb-xa)**2+(yb-ya)**2)  # panel length\n",
    "        \n",
    "        # orientation of the panel\n",
    "        if xb-xa <= 0.0:\n",
    "            self.beta = np.arccos((yb-ya)/self.length)\n",
    "        elif xb-xa > 0.0:\n",
    "            self.beta = math.pi + np.arccos(-(yb-ya)/self.length)\n",
    "            \n",
    "        # panel location\n",
    "        if self.beta <= np.pi:\n",
    "            self.loc = 'upper'    # upper surface\n",
    "        else:\n",
    "            self.loc = 'lower'    # lower surface\n",
    "        \n",
    "        self.sigma = 0.0     # source strength\n",
    "        self.vt = 0.0        # tangential velocity\n",
    "        self.cp = 0.0        # coefficient of pressure"
   ]
  },
  {
   "cell_type": "code",
   "execution_count": 56,
   "metadata": {
    "collapsed": true
   },
   "outputs": [],
   "source": [
    "# define panels for main foil\n",
    "def define_panels_foil(x, y, N=150):\n",
    "    \"\"\"\n",
    "    Discretizes the geometry into panels using the 'cosine' method.\n",
    "    \n",
    "    Parameters\n",
    "    ----------\n",
    "    x: 1D numpy array of floats\n",
    "        x-coordinate of the points defining the geometry.\n",
    "    y: 1D array of floats\n",
    "        y-coordinate of the points defining the geometry.\n",
    "    N: integer, optional\n",
    "        Number of panels;\n",
    "        default: 50\n",
    "        \n",
    "    Returns\n",
    "    -------\n",
    "    panels: 1D numpy array of Panel objects\n",
    "        The list of panels.\n",
    "    \"\"\"\n",
    "    x_ends = x_foil                         # x-coordinate of the panels end-points\n",
    "    y_ends = y_foil                # y-coordinate of the panels end-points\n",
    "    \n",
    "    # create panels\n",
    "    panels = np.empty(N, dtype = object)\n",
    "    for i in range(N):\n",
    "        panels[i] = Panel(x_ends[i], y_ends[i], x_ends[i+1], y_ends[i+1])\n",
    "        \n",
    "    return panels"
   ]
  },
  {
   "cell_type": "code",
   "execution_count": 57,
   "metadata": {
    "collapsed": true
   },
   "outputs": [],
   "source": [
    "# define panels for flap\n",
    "def define_panels_flap(x, y, N=150):\n",
    "    \"\"\"\n",
    "    Discretizes the geometry into panels using the 'cosine' method.\n",
    "    \n",
    "    Parameters\n",
    "    ----------\n",
    "    x: 1D numpy array of floats\n",
    "        x-coordinate of the points defining the geometry.\n",
    "    y: 1D array of floats\n",
    "        y-coordinate of the points defining the geometry.\n",
    "    N: integer, optional\n",
    "        Number of panels;\n",
    "        default: 50\n",
    "        \n",
    "    Returns\n",
    "    -------\n",
    "    panels: 1D numpy array of Panel objects\n",
    "        The list of panels.\n",
    "    \"\"\"\n",
    "    x_ends = x_flap                     # x-coordinate of the panels end-points\n",
    "    y_ends = y_flap                     # y-coordinate of the panels end-points\n",
    "    \n",
    "    # create panels\n",
    "    panels = np.empty(N, dtype = object)\n",
    "    for i in range(N):\n",
    "        panels[i] = Panel(x_ends[i], y_ends[i], x_ends[i+1], y_ends[i+1])\n",
    "        \n",
    "    return panels"
   ]
  },
  {
   "cell_type": "code",
   "execution_count": 58,
   "metadata": {
    "collapsed": true
   },
   "outputs": [],
   "source": [
    "# discretize geometry into panels\n",
    "panels_foil = define_panels_foil(x_foil, y_foil, N=150)\n",
    "panels_flap = define_panels_flap(x_flap, y_flap, N=150)"
   ]
  },
  {
   "cell_type": "code",
   "execution_count": 59,
   "metadata": {
    "collapsed": false
   },
   "outputs": [
    {
     "data": {
      "image/png": "[encoded data removed]",
      "text/plain": [
       "<matplotlib.figure.Figure at 0x7f6fcc04af98>"
      ]
     },
     "metadata": {},
     "output_type": "display_data"
    }
   ],
   "source": [
    "# plot discretized geometry\n",
    "width = 10\n",
    "plt.figure(figsize=(width, width))\n",
    "plt.xlabel('x', fontsize=16)\n",
    "plt.ylabel('y', fontsize=16)\n",
    "plt.plot(x_foil, y_foil, color='k', linewidth=2, linestyle='-')\n",
    "plt.plot(x_flap, y_flap, color='k', linewidth=2, linestyle='-')\n",
    "plt.plot(np.append([panel.xa for panel in panels_foil], panels_foil[0].xa),\n",
    "            np.append([panel.ya for panel in panels_foil], panels_foil[0].ya),\n",
    "            linestyle='-', linewidth=1, marker='o', markersize=6, color='#CD2305')\n",
    "plt.plot(np.append([panel.xa for panel in panels_flap], panels_flap[0].xa),\n",
    "            np.append([panel.ya for panel in panels_flap], panels_flap[0].ya),\n",
    "            linestyle='-', linewidth=1, marker='o', markersize=6, color='#CD2305')\n",
    "plt.axis('scaled', adjustable='box')\n",
    "plt.xlim(-0.1, 1.4)\n",
    "plt.ylim(-0.3, 0.3);"
   ]
  },
  {
   "cell_type": "code",
   "execution_count": 60,
   "metadata": {
    "collapsed": true
   },
   "outputs": [],
   "source": [
    "# source contribution for main foil and flap\n",
    "def source_contribution_normal(panels_foil, panels_flap):\n",
    "    \"\"\"\n",
    "    Builds the source contribution matrix for the normal velocity.\n",
    "    \n",
    "    Parameters\n",
    "    ----------\n",
    "    panels: 1D array of Panel objects\n",
    "        List of panels.\n",
    "    \n",
    "    Returns\n",
    "    -------\n",
    "    A: 2D Numpy array of floats\n",
    "        Source contribution matrix.\n",
    "    \"\"\"\n",
    "    Total_Panels = np.append(panels_foil, panels_flap)\n",
    "    A = np.empty((len(Total_Panels),len(Total_Panels)), dtype=float)\n",
    "    # source contribution on a panel from itself\n",
    "    np.fill_diagonal(A, 0.5)\n",
    "    # source contribution on a panel from others\n",
    "    for i, panel_i in enumerate(Total_Panels):\n",
    "        for j, panel_j in enumerate(Total_Panels):\n",
    "            if i != j:\n",
    "                A[i, j] = 0.5/np.pi*integral(panel_i.xc, panel_i.yc, \n",
    "                                                panel_j,\n",
    "                                                np.cos(panel_i.beta),\n",
    "                                                np.sin(panel_i.beta))\n",
    "    return A"
   ]
  },
  {
   "cell_type": "code",
   "execution_count": 61,
   "metadata": {
    "collapsed": true
   },
   "outputs": [],
   "source": [
    "# define vortex contribution for main foil and flap\n",
    "def vortex_contribution_normal(panels_foil, panels_flap):\n",
    "    \"\"\"\n",
    "    Builds the vortex contribution matrix for the normal velocity.\n",
    "    \n",
    "    Parameters\n",
    "    ----------\n",
    "    panels: 1D array of Panel objects\n",
    "        List of panels.\n",
    "    \n",
    "    Returns\n",
    "    -------\n",
    "    A: 2D Numpy array of floats\n",
    "        Vortex contribution matrix.\n",
    "    \"\"\"\n",
    "    Total_Panels = np.append(panels_foil, panels_flap)\n",
    "    A = np.empty((len(Total_Panels),len(Total_Panels)), dtype=float)\n",
    "    # vortex contribution on a panel from itself\n",
    "    np.fill_diagonal(A, 0.0)\n",
    "    # vortex contribution on a panel from others\n",
    "    for i, panel_i in enumerate(Total_Panels):\n",
    "        for j, panel_j in enumerate(Total_Panels):\n",
    "            if i != j:\n",
    "                A[i, j] = -0.5/np.pi*integral(panel_i.xc, panel_i.yc, \n",
    "                                                 panel_j,\n",
    "                                                 np.sin(panel_i.beta),\n",
    "                                                 -np.cos(panel_i.beta))\n",
    "    return A"
   ]
  },
  {
   "cell_type": "code",
   "execution_count": 62,
   "metadata": {
    "collapsed": false
   },
   "outputs": [],
   "source": [
    "A_source = source_contribution_normal(panels_foil, panels_flap)\n",
    "B_vortex = vortex_contribution_normal(panels_foil, panels_flap)"
   ]
  },
  {
   "cell_type": "code",
   "execution_count": 63,
   "metadata": {
    "collapsed": true
   },
   "outputs": [],
   "source": [
    "def kutta_condition(A_source, B_vortex):\n",
    "    \"\"\"\n",
    "    Builds the Kutta condition array.\n",
    "    \n",
    "    Parameters\n",
    "    ----------\n",
    "    A_source: 2D Numpy array of floats\n",
    "        Source contribution matrix for the normal velocity.\n",
    "    B_vortex: 2D Numpy array of floats\n",
    "        Vortex contribution matrix for the normal velocity.\n",
    "    \n",
    "    Returns\n",
    "    -------\n",
    "    b: 1D Numpy array of floats\n",
    "        The left-hand side of the Kutta-condition equation.\n",
    "    \"\"\"\n",
    "    b = np.empty(A_source.shape[0]+2, dtype=float)\n",
    "    # matrix of source contribution on tangential velocity\n",
    "    # is the same than\n",
    "    # matrix of vortex contribution on normal velocity\n",
    "    b[:-2] = B_vortex[0, :] + B_vortex[199, :]\n",
    "    # matrix of vortex contribution on tangential velocity\n",
    "    # is the opposite of\n",
    "    # matrix of source contribution on normal velocity\n",
    "    b[-1] = - np.sum(A_source[100, :] + A_source[199, :])\n",
    "    b[-2] = - np.sum(A_source[0, :] + A_source[99, :])\n",
    "    return b"
   ]
  },
  {
   "cell_type": "code",
   "execution_count": 64,
   "metadata": {
    "collapsed": true
   },
   "outputs": [],
   "source": [
    "def build_singularity_matrix(A_source, B_vortex):\n",
    "    \"\"\"\n",
    "    Builds the left-hand side matrix of the system\n",
    "    arising from source and vortex contributions.\n",
    "    \n",
    "    Parameters\n",
    "    ----------\n",
    "    A_source: 2D Numpy array of floats\n",
    "        Source contribution matrix for the normal velocity.\n",
    "    B_vortex: 2D Numpy array of floats\n",
    "        Vortex contribution matrix for the normal velocity.\n",
    "    \n",
    "    Returns\n",
    "    -------\n",
    "    A:  2D Numpy array of floats\n",
    "        Matrix of the linear system.\n",
    "    \"\"\"\n",
    "    A = np.empty((A_source.shape[0]+2, A_source.shape[1]+2), dtype=float)\n",
    "    # source contribution matrix\n",
    "    A[:-2, :-2] = A_source\n",
    "    # vortex contribution array\n",
    "    A[:-2, -2] = np.sum(B_vortex[:, 0:99], axis=1)\n",
    "    A[:-2, -1] = np.sum(B_vortex[:, 100:199], axis=1)\n",
    "    # Kutta condition array\n",
    "    A[-1:-2, :] = kutta_condition(A_source, B_vortex)\n",
    "    return A"
   ]
  },
  {
   "cell_type": "code",
   "execution_count": 65,
   "metadata": {
    "collapsed": true
   },
   "outputs": [],
   "source": [
    "Total_Panels = np.append(panels_foil, panels_flap)\n",
    "\n",
    "A = build_singularity_matrix(A_source, B_vortex)\n",
    "b = build_freestream_rhs(Total_Panels, freestream)"
   ]
  },
  {
   "cell_type": "code",
   "execution_count": 66,
   "metadata": {
    "collapsed": true
   },
   "outputs": [],
   "source": [
    "# solve for singularity strengths\n",
    "strengths = np.linalg.solve(A, b)\n",
    "\n",
    "# store source strength on each panel\n",
    "for i , panel in enumerate(Total_Panels):\n",
    "    panel.sigma = strengths[i]\n",
    "    \n",
    "# store circulation density\n",
    "gamma_foil = strengths[-2]\n",
    "gamma_flap = strengths[-1]"
   ]
  },
  {
   "cell_type": "code",
   "execution_count": 67,
   "metadata": {
    "collapsed": true
   },
   "outputs": [],
   "source": [
    "def compute_tangential_velocity(Total_Panels, freestream, gamma_foil, gamma_flap, A_source, B_vortex):\n",
    "    \"\"\"\n",
    "    Computes the tangential surface velocity.\n",
    "    \n",
    "    Parameters\n",
    "    ----------\n",
    "    panels: 1D array of Panel objects\n",
    "        List of panels.\n",
    "    freestream: Freestream object\n",
    "        Freestream conditions.\n",
    "    gamma: float\n",
    "        Circulation density.\n",
    "    A_source: 2D Numpy array of floats\n",
    "        Source contribution matrix for the normal velocity.\n",
    "    B_vortex: 2D Numpy array of floats\n",
    "        Vortex contribution matrix for the normal velocity.\n",
    "    \"\"\"\n",
    "    A = np.empty((len(Total_Panels), len(Total_Panels)+2), dtype=float)\n",
    "    # matrix of source contribution on tangential velocity\n",
    "    # is the same than\n",
    "    # matrix of vortex contribution on normal velocity\n",
    "    A[:, :-2] = B_vortex\n",
    "    # matrix of vortex contribution on tangential velocity\n",
    "    # is the opposite of\n",
    "    # matrix of source contribution on normal velocity\n",
    "    A[:, -2] = -np.sum(A_source[:, 0:99], axis=1)\n",
    "    A[:, -1] = -np.sum(A_source[:, 100:199], axis=1)\n",
    "    # freestream contribution\n",
    "    b = freestream.u_inf*np.sin([freestream.alpha-panel.beta \n",
    "                                    for panel in Total_Panels])\n",
    "    \n",
    "    strengths = np.append([panel.sigma for panel in Total_Panels], [gamma_foil, gamma_flap])\n",
    "    \n",
    "    tangential_velocities = np.dot(A, strengths) + b\n",
    "    \n",
    "    for i, panel in enumerate(Total_Panels):\n",
    "        panel.vt = tangential_velocities[i]"
   ]
  },
  {
   "cell_type": "code",
   "execution_count": 68,
   "metadata": {
    "collapsed": true
   },
   "outputs": [],
   "source": [
    "# tangential velocity at each panel center.\n",
    "compute_tangential_velocity(Total_Panels, freestream, gamma_foil, gamma_flap, A_source, B_vortex)"
   ]
  },
  {
   "cell_type": "code",
   "execution_count": 69,
   "metadata": {
    "collapsed": true
   },
   "outputs": [],
   "source": [
    "def compute_pressure_coefficient(Total_Panels, freestream):\n",
    "    \"\"\"\n",
    "    Computes the surface pressure coefficients.\n",
    "    \n",
    "    Parameters\n",
    "    ----------\n",
    "    panels: 1D array of Panel objects\n",
    "        List of panels.\n",
    "    freestream: Freestream object\n",
    "        Freestream conditions.\n",
    "    \"\"\"\n",
    "    for panel in Total_Panels:\n",
    "        panel.cp = 1.0 - (panel.vt/freestream.u_inf)**2"
   ]
  },
  {
   "cell_type": "code",
   "execution_count": 70,
   "metadata": {
    "collapsed": true
   },
   "outputs": [],
   "source": [
    "# surface pressure coefficient\n",
    "compute_pressure_coefficient(Total_Panels, freestream)"
   ]
  },
  {
   "cell_type": "code",
   "execution_count": 71,
   "metadata": {
    "collapsed": false
   },
   "outputs": [
    {
     "data": {
      "image/png": "[encoded data removed]",
      "text/plain": [
       "<matplotlib.figure.Figure at 0x7f6fd73e25f8>"
      ]
     },
     "metadata": {},
     "output_type": "display_data"
    }
   ],
   "source": [
    "# plot surface pressure coefficient\n",
    "plt.figure(figsize=(10, 6))\n",
    "plt.grid()\n",
    "plt.xlabel('$x$', fontsize=16)\n",
    "plt.ylabel('$C_p$', fontsize=16)\n",
    "plt.plot([panel.xc for panel in Total_Panels if panel.loc == 'upper'],\n",
    "            [panel.cp for panel in Total_Panels if panel.loc == 'upper'],\n",
    "            label='upper surface',\n",
    "            color='r', linestyle='-', linewidth=2, marker='o', markersize=6)\n",
    "plt.plot([panel.xc for panel in Total_Panels if panel.loc == 'lower'],\n",
    "            [panel.cp for panel in Total_Panels if panel.loc == 'lower'],\n",
    "            label= 'lower surface',\n",
    "            color='b', linestyle='-', linewidth=1, marker='o', markersize=6)\n",
    "plt.legend(loc='best', prop={'size':16})\n",
    "plt.xlim(-0.1, 1.5)\n",
    "plt.ylim(2.0, -25.0)\n",
    "plt.title('Number of Total_Panels: {}'.format(Total_Panels.size), fontsize=16);"
   ]
  },
  {
   "cell_type": "code",
   "execution_count": null,
   "metadata": {
    "collapsed": true
   },
   "outputs": [],
   "source": []
  }
 ],
 "metadata": {
  "anaconda-cloud": {},
  "kernelspec": {
   "display_name": "Python [conda root]",
   "language": "python",
   "name": "conda-root-py"
  },
  "language_info": {
   "codemirror_mode": {
    "name": "ipython",
    "version": 3
   },
   "file_extension": ".py",
   "mimetype": "text/x-python",
   "name": "python",
   "nbconvert_exporter": "python",
   "pygments_lexer": "ipython3",
   "version": "3.5.2"
  }
 },
 "nbformat": 4,
 "nbformat_minor": 1
}
